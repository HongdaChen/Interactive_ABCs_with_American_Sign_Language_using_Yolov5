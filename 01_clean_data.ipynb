{
 "cells": [
  {
   "cell_type": "markdown",
   "metadata": {},
   "source": [
    "# Imports"
   ]
  },
  {
   "cell_type": "code",
   "execution_count": 1,
   "metadata": {
    "execution": {
     "iopub.execute_input": "2020-09-20T20:54:16.277652Z",
     "iopub.status.busy": "2020-09-20T20:54:16.277382Z",
     "iopub.status.idle": "2020-09-20T20:54:16.571219Z",
     "shell.execute_reply": "2020-09-20T20:54:16.570737Z",
     "shell.execute_reply.started": "2020-09-20T20:54:16.277583Z"
    }
   },
   "outputs": [
    {
     "name": "stdout",
     "output_type": "stream",
     "text": [
      "Setup complete. Using torch 1.6.0 _CudaDeviceProperties(name='GeForce GTX 1080 Ti', major=6, minor=1, total_memory=11170MB, multi_processor_count=28)\n"
     ]
    }
   ],
   "source": [
    "import cv2\n",
    "import os\n",
    "import numpy as np\n",
    "from PIL import Image, ImageOps\n",
    "import torch\n",
    "from IPython.display import Image, clear_output  # to display images\n",
    "print('Setup complete. Using torch %s %s' % (torch.__version__, torch.cuda.get_device_properties(0) if torch.cuda.is_available() else 'CPU'))"
   ]
  },
  {
   "cell_type": "code",
   "execution_count": null,
   "metadata": {},
   "outputs": [],
   "source": [
    "# cd images/dataset5/A/a/"
   ]
  },
  {
   "cell_type": "code",
   "execution_count": 2,
   "metadata": {
    "execution": {
     "iopub.execute_input": "2020-09-20T20:54:18.025799Z",
     "iopub.status.busy": "2020-09-20T20:54:18.025561Z",
     "iopub.status.idle": "2020-09-20T20:54:18.034374Z",
     "shell.execute_reply": "2020-09-20T20:54:18.033960Z",
     "shell.execute_reply.started": "2020-09-20T20:54:18.025775Z"
    }
   },
   "outputs": [
    {
     "data": {
      "text/plain": [
       "'/home/dlee/Documents/git-personal/GA_Data_Science_Capstone'"
      ]
     },
     "execution_count": 2,
     "metadata": {},
     "output_type": "execute_result"
    }
   ],
   "source": [
    "pwd"
   ]
  },
  {
   "cell_type": "code",
   "execution_count": null,
   "metadata": {},
   "outputs": [],
   "source": []
  },
  {
   "cell_type": "markdown",
   "metadata": {},
   "source": [
    "# Rename all files in datasets"
   ]
  },
  {
   "cell_type": "code",
   "execution_count": null,
   "metadata": {},
   "outputs": [],
   "source": [
    "path_dataset5 = './images/dataset5/'\n"
   ]
  },
  {
   "cell_type": "code",
   "execution_count": null,
   "metadata": {},
   "outputs": [],
   "source": [
    "# Rename all files in dataset5\n",
    "# Source: https://www.geeksforgeeks.org/rename-multiple-files-using-python/\n",
    "for folder in os.listdir(path_dataset5):\n",
    "    for letter_folder in os.listdir(path_dataset5+'/'+folder):\n",
    "        for count, filename in enumerate(os.listdir(path_dataset5+'/'+folder+'/'+ letter_folder)):\n",
    "            dst = letter_folder + str(count) + \".png\"\n",
    "            src = path_dataset5 + folder +'/'+ letter_folder +'/'+ filename \n",
    "            dst = path_dataset5 + folder +'/'+ letter_folder +'/'+ dst  \n",
    "            \n",
    "            os.rename(src, dst)\n",
    "\n"
   ]
  },
  {
   "cell_type": "code",
   "execution_count": null,
   "metadata": {},
   "outputs": [],
   "source": [
    "path_dropbox_request = './images/Sign_Language_Letter_Request/'"
   ]
  },
  {
   "cell_type": "code",
   "execution_count": null,
   "metadata": {},
   "outputs": [],
   "source": [
    "# Rename all folders in Dropbox requests\n",
    "\n",
    "for folder in os.listdir(path_dropbox_request):\n",
    "    for count, filename in enumerate(os.listdir(path_dropbox_request+'/'+folder)):\n",
    "            dst = folder + str(count) + \".jpeg\"\n",
    "            src = path_dropbox_request+'/'+folder +'/'+ filename \n",
    "            dst = path_dropbox_request+'/'+folder +'/'+ dst  \n",
    "            \n",
    "            os.rename(src, dst)\n"
   ]
  },
  {
   "cell_type": "code",
   "execution_count": 3,
   "metadata": {
    "execution": {
     "iopub.execute_input": "2020-09-20T20:54:56.364366Z",
     "iopub.status.busy": "2020-09-20T20:54:56.364146Z",
     "iopub.status.idle": "2020-09-20T20:54:56.367085Z",
     "shell.execute_reply": "2020-09-20T20:54:56.366507Z",
     "shell.execute_reply.started": "2020-09-20T20:54:56.364343Z"
    }
   },
   "outputs": [],
   "source": [
    "path_test_request = './images/test/'"
   ]
  },
  {
   "cell_type": "code",
   "execution_count": 5,
   "metadata": {
    "execution": {
     "iopub.execute_input": "2020-09-20T20:55:57.710056Z",
     "iopub.status.busy": "2020-09-20T20:55:57.709868Z",
     "iopub.status.idle": "2020-09-20T20:55:57.713575Z",
     "shell.execute_reply": "2020-09-20T20:55:57.713141Z",
     "shell.execute_reply.started": "2020-09-20T20:55:57.710037Z"
    }
   },
   "outputs": [],
   "source": [
    "# Rename all folders in Dropbox requests test\n",
    "\n",
    "for folder in os.listdir(path_test_request):\n",
    "    for count, filename in enumerate(os.listdir(path_test_request+'/'+folder)):\n",
    "            dst = folder + str(count) + \".jpeg\"\n",
    "            src = path_test_request+'/'+folder +'/'+ filename \n",
    "            dst = path_test_request+'/'+folder +'/'+ dst  \n",
    "            \n",
    "            os.rename(src, dst)\n"
   ]
  },
  {
   "cell_type": "code",
   "execution_count": null,
   "metadata": {},
   "outputs": [],
   "source": [
    "\n",
    "img = cv2.imread(path_test_request + 'A''.jpeg')"
   ]
  },
  {
   "cell_type": "markdown",
   "metadata": {},
   "source": [
    "# Resize images"
   ]
  },
  {
   "cell_type": "code",
   "execution_count": null,
   "metadata": {},
   "outputs": [],
   "source": [
    "# Source: https://stackoverflow.com/questions/44650888/resize-an-image-without-distortion-opencv\n",
    "def image_resize(image, width = None, height = None, inter = cv2.INTER_AREA):\n",
    "    # initialize the dimensions of the image to be resized and\n",
    "    # grab the image size\n",
    "    dim = None\n",
    "    (h, w) = image.shape[:2]\n",
    "\n",
    "    # if both the width and height are None, then return the\n",
    "    # original image\n",
    "    if width is None and height is None:\n",
    "        return image\n",
    "\n",
    "    # check to see if the width is None\n",
    "    if width is None:\n",
    "        # calculate the ratio of the height and construct the\n",
    "        # dimensions\n",
    "        r = height / float(h)\n",
    "        dim = (int(w * r), height)\n",
    "\n",
    "    # otherwise, the height is None\n",
    "    else:\n",
    "        # calculate the ratio of the width and construct the\n",
    "        # dimensions\n",
    "        r = width / float(w)\n",
    "        dim = (width, int(h * r))\n",
    "\n",
    "    # resize the image\n",
    "    resized = cv2.resize(image, dim, interpolation = inter)\n",
    "\n",
    "    # return the resized image\n",
    "    return resized\n"
   ]
  },
  {
   "cell_type": "code",
   "execution_count": null,
   "metadata": {},
   "outputs": [],
   "source": [
    "image = image_resize(image, height = 800)"
   ]
  },
  {
   "cell_type": "code",
   "execution_count": 2,
   "metadata": {
    "execution": {
     "iopub.execute_input": "2020-09-20T20:37:49.835217Z",
     "iopub.status.busy": "2020-09-20T20:37:49.835000Z",
     "iopub.status.idle": "2020-09-20T20:37:49.844462Z",
     "shell.execute_reply": "2020-09-20T20:37:49.844011Z",
     "shell.execute_reply.started": "2020-09-20T20:37:49.835193Z"
    }
   },
   "outputs": [
    {
     "data": {
      "text/plain": [
       "array([[12, 12, 12, ..., 10, 10, 10],\n",
       "       [12, 12, 12, ..., 10, 10, 10],\n",
       "       [12, 12, 12, ..., 10, 10, 10],\n",
       "       ...,\n",
       "       [ 4,  4,  4, ...,  0,  0,  0],\n",
       "       [ 4,  4,  4, ...,  0,  0,  0],\n",
       "       [ 4,  4,  4, ...,  0,  0,  0]], dtype=uint8)"
      ]
     },
     "execution_count": 2,
     "metadata": {},
     "output_type": "execute_result"
    }
   ],
   "source": [
    "img = cv2.imread('./images/dataset5/A/a/a0.png', 400)\n",
    "img"
   ]
  },
  {
   "cell_type": "code",
   "execution_count": null,
   "metadata": {},
   "outputs": [],
   "source": [
    "cv2.imshow('Python',img)\n",
    "cv2.waitKey(0)\n",
    "cv2.destroyAllWindows()"
   ]
  },
  {
   "cell_type": "code",
   "execution_count": null,
   "metadata": {},
   "outputs": [],
   "source": [
    "image = image_resize(img, height = 800)"
   ]
  },
  {
   "cell_type": "code",
   "execution_count": null,
   "metadata": {},
   "outputs": [],
   "source": [
    "image.shape"
   ]
  },
  {
   "cell_type": "code",
   "execution_count": null,
   "metadata": {},
   "outputs": [],
   "source": [
    "# Horizontal Flip\n",
    "img = cv2.imread('./images/dataset5/A/a/a0.png', 800)\n",
    "def horizontal_flip(img, flag):\n",
    "    if flag:\n",
    "        return cv2.flip(img, 1)\n",
    "    else:\n",
    "        return img\n",
    "img = horizontal_flip(img, True)\n",
    "cv2.imshow('Result', img)\n",
    "cv2.waitKey(0)\n",
    "cv2.destroyAllWindows()"
   ]
  },
  {
   "cell_type": "markdown",
   "metadata": {},
   "source": [
    "# Rotation"
   ]
  },
  {
   "cell_type": "code",
   "execution_count": 3,
   "metadata": {
    "execution": {
     "iopub.execute_input": "2020-09-20T23:27:43.629377Z",
     "iopub.status.busy": "2020-09-20T23:27:43.629164Z",
     "iopub.status.idle": "2020-09-20T23:27:43.634899Z",
     "shell.execute_reply": "2020-09-20T23:27:43.634381Z",
     "shell.execute_reply.started": "2020-09-20T23:27:43.629353Z"
    }
   },
   "outputs": [],
   "source": []
  },
  {
   "cell_type": "code",
   "execution_count": 4,
   "metadata": {
    "execution": {
     "iopub.execute_input": "2020-09-20T23:27:44.659267Z",
     "iopub.status.busy": "2020-09-20T23:27:44.659092Z",
     "iopub.status.idle": "2020-09-20T23:27:44.664360Z",
     "shell.execute_reply": "2020-09-20T23:27:44.663790Z",
     "shell.execute_reply.started": "2020-09-20T23:27:44.659248Z"
    }
   },
   "outputs": [
    {
     "ename": "NameError",
     "evalue": "name 'show_image' is not defined",
     "output_type": "error",
     "traceback": [
      "\u001b[0;31m---------------------------------------------------------------------------\u001b[0m",
      "\u001b[0;31mNameError\u001b[0m                                 Traceback (most recent call last)",
      "\u001b[0;32m<ipython-input-4-c1de0a42b94f>\u001b[0m in \u001b[0;36m<module>\u001b[0;34m\u001b[0m\n\u001b[0;32m----> 1\u001b[0;31m \u001b[0mshow_image\u001b[0m\u001b[0;34m(\u001b[0m\u001b[0mrotate_bound\u001b[0m\u001b[0;34m(\u001b[0m\u001b[0mcropped\u001b[0m\u001b[0;34m,\u001b[0m \u001b[0;34m-\u001b[0m\u001b[0;36m15\u001b[0m\u001b[0;34m)\u001b[0m\u001b[0;34m)\u001b[0m\u001b[0;34m\u001b[0m\u001b[0;34m\u001b[0m\u001b[0m\n\u001b[0m",
      "\u001b[0;31mNameError\u001b[0m: name 'show_image' is not defined"
     ]
    }
   ],
   "source": []
  },
  {
   "cell_type": "code",
   "execution_count": null,
   "metadata": {},
   "outputs": [],
   "source": []
  }
 ],
 "metadata": {
  "kernelspec": {
   "display_name": "Python 3.8.5(capstone)",
   "language": "python",
   "name": "capston"
  },
  "language_info": {
   "codemirror_mode": {
    "name": "ipython",
    "version": 3
   },
   "file_extension": ".py",
   "mimetype": "text/x-python",
   "name": "python",
   "nbconvert_exporter": "python",
   "pygments_lexer": "ipython3",
   "version": "3.8.5"
  }
 },
 "nbformat": 4,
 "nbformat_minor": 4
}
