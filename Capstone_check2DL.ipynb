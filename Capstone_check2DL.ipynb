{
 "cells": [
  {
   "cell_type": "markdown",
   "metadata": {},
   "source": [
    "## Interactive ABC's, bringing Machine Learning and Sign Language together by improving accessability to learning utilizing computer vision.\n"
   ]
  },
  {
   "cell_type": "markdown",
   "metadata": {},
   "source": [
    "### Interesting Facts About American Sign Language\n",
    "#### Source: https://isilanguagesolutions.com/2019/04/15/interesting-facts-about-american-sign-language/\n",
    "    “Sign Language” isn’t universal. While individuals who don’t “speak” any language or speak a variety of languages can learn ASL, there are a variety of other sign languages used around the world.\n",
    "    \n",
    "    Even within ASL, there are both “slang” movements and slight regional distinctions in how letters and words are formed in American Sign Language.\n",
    "    \n",
    "    While “Fingerspelling” is a possibility, signing each individual letter in an English word, ASL actually uses a completely different grammar, “pronunciation,” and word order. If an interpreter is translating English into ASL, they will change the order, verb tense, or even word choice in order to move from the spoken language to the signed language.\n",
    "    \n",
    "    9 out of 10 children who are born deaf are born to parents who can hear, but even if parents are not initially fluent in sign language, their children often learn ASL fluently, due to the incredible ability of young children to learn languages.\n"
   ]
  },
  {
   "cell_type": "markdown",
   "metadata": {},
   "source": [
    "#### Source: https://www.alsglobal.net/blogs/2017/02/05/8-interesting-facts-about-american-sign-language-asl/\n",
    "\n",
    "Behind English, Spanish and Chinese, ALS is the fourth most widely used language in the US with around 2 million users."
   ]
  },
  {
   "cell_type": "markdown",
   "metadata": {},
   "source": [
    "#### Source: https://www.verywellhealth.com/challenges-of-learning-sign-language-1049296\n",
    "\n",
    "With that being said, learning any language after a certain age is far more challenging than doing so when you are young.1﻿ Moreover, with sign language, you generally don't have the ability to immerse yourself in the language outside of the classroom. In many cases, your interaction may be limited to a single-family member who is deaf. If that person is a child, your goals and needs would be far different than if you were communicating with an adult. That can limit how fast or slowly you gain fluency in the language.\n",
    "\n",
    "Another challenge of learning sign language is that the average speed of communications in a social setting can often be overwhelming, particularly if you are in a group. It takes communications to a completely different level and demands that you master eye gazing to better navigate the give-and-take of communal interactions. "
   ]
  },
  {
   "cell_type": "markdown",
   "metadata": {},
   "source": [
    "## Problem Statement:\n",
    "With nearly 90% of children born deaf to hearing parents, can machine learning bridge the gap for these communities in learning sign language more effectively in a fun environment through an app?"
   ]
  },
  {
   "cell_type": "code",
   "execution_count": null,
   "metadata": {},
   "outputs": [],
   "source": []
  }
 ],
 "metadata": {
  "kernelspec": {
   "display_name": "Python 3",
   "language": "python",
   "name": "python3"
  },
  "language_info": {
   "codemirror_mode": {
    "name": "ipython",
    "version": 3
   },
   "file_extension": ".py",
   "mimetype": "text/x-python",
   "name": "python",
   "nbconvert_exporter": "python",
   "pygments_lexer": "ipython3",
   "version": "3.8.3"
  }
 },
 "nbformat": 4,
 "nbformat_minor": 4
}
