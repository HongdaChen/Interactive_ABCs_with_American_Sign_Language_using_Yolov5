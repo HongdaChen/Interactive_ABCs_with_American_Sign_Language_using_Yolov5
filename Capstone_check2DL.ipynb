{
 "cells": [
  {
   "cell_type": "markdown",
   "metadata": {},
   "source": [
    "## Interactive ABC's, bringing Machine Learning and Sign Language together by improving accessability to learning utilizing computer vision.\n",
    "\n",
    "\n",
    "### Interesting Facts About American Sign Language\n",
    "#### Source: https://isilanguagesolutions.com/2019/04/15/interesting-facts-about-american-sign-language/\n",
    "    “Sign Language” isn’t universal. While individuals who don’t “speak” any language or speak a variety of languages can learn ASL, there are a variety of other sign languages used around the world.\n",
    "    \n",
    "    Even within ASL, there are both “slang” movements and slight regional distinctions in how letters and words are formed in American Sign Language.\n",
    "    \n",
    "    While “Fingerspelling” is a possibility, signing each individual letter in an English word, ASL actually uses a completely different grammar, “pronunciation,” and word order. If an interpreter is translating English into ASL, they will change the order, verb tense, or even word choice in order to move from the spoken language to the signed language.\n",
    "    \n",
    "    9 out of 10 children who are born deaf are born to parents who can hear, but even if parents are not initially fluent in sign language, their children often learn ASL fluently, due to the incredible ability of young children to learn languages.\n",
    "\n",
    "\n",
    "#### Source: https://www.alsglobal.net/blogs/2017/02/05/8-interesting-facts-about-american-sign-language-asl/\n",
    "\n",
    "Behind English, Spanish and Chinese, ALS is the fourth most widely used language in the US with around 2 million users.\n",
    "\n",
    "#### Source: https://www.verywellhealth.com/challenges-of-learning-sign-language-1049296\n",
    "\n",
    "With that being said, learning any language after a certain age is far more challenging than doing so when you are young.1﻿ Moreover, with sign language, you generally don't have the ability to immerse yourself in the language outside of the classroom. In many cases, your interaction may be limited to a single-family member who is deaf. If that person is a child, your goals and needs would be far different than if you were communicating with an adult. That can limit how fast or slowly you gain fluency in the language.\n",
    "\n",
    "Another challenge of learning sign language is that the average speed of communications in a social setting can often be overwhelming, particularly if you are in a group. It takes communications to a completely different level and demands that you master eye gazing to better navigate the give-and-take of communal interactions. \n",
    "\n",
    "## Problem Statement:\n",
    "With nearly 90% of children born deaf to hearing parents, can machine learning bridge the gap for these communities in learning sign language more effectively in a fun environment through a computer vision app using Yolo v5? \n",
    "\n",
    "The main goal in this project is to create a fun, game like environment that will test ones speed in learning the sign language alphabet using a webcam or mobile device.  By adding a few additional tools such as a timer to see how fast you can spell words may add to the experience, and help those that want to learn to perform this task with speed and accuracy.\n",
    "\n",
    "#### Data Collection Methods:\n",
    "http://empslocal.ex.ac.uk/people/staff/np331/index.php?section=FingerSpellingDataset\n",
    "[link](http://empslocal.ex.ac.uk/people/staff/np331/index.php?section=FingerSpellingDataset (over 60,000 images))\n",
    "    \n",
    "#### Dropbox request form: (Deadline Sep. 27th)\n",
    "https://docs.google.com/document/d/1ChZPPr1dsHtgNqQ55a0FMngJj8PJbGgArm8xsiNYlRQ/edit?usp=sharing\n",
    "[link](https://docs.google.com/document/d/1ChZPPr1dsHtgNqQ55a0FMngJj8PJbGgArm8xsiNYlRQ/edit?usp=sharing)\n",
    "    \n",
    "    \n",
    "\n",
    "### Proposed Methods:\n",
    "    While Google collab is easily accessible,  I'm attempting to create my working notebook on my Cuda enabled device.\n",
    "\n",
    "#### I already have a working instance of Yolov5 from Ultralytics, and have tested to be sure that it works.\n",
    "![](./Screenshots/yolo_me_example.png)\n",
    "\n",
    "I have installed labelImg and have started labeling my dataset, however it is very time consuming and tedious.\n",
    "![](./Screenshots/a_label.png)    \n",
    "\n",
    "    \n",
    "\n",
    "I plan on looking into opencv, and other tools to see if I can use an edge detection method to speed up the process of making bounding boxes for my images."
   ]
  },
  {
   "cell_type": "code",
   "execution_count": null,
   "metadata": {},
   "outputs": [],
   "source": []
  },
  {
   "cell_type": "code",
   "execution_count": null,
   "metadata": {},
   "outputs": [],
   "source": []
  },
  {
   "cell_type": "code",
   "execution_count": null,
   "metadata": {},
   "outputs": [],
   "source": []
  }
 ],
 "metadata": {
  "kernelspec": {
   "display_name": "Python 3",
   "language": "python",
   "name": "python3"
  },
  "language_info": {
   "codemirror_mode": {
    "name": "ipython",
    "version": 3
   },
   "file_extension": ".py",
   "mimetype": "text/x-python",
   "name": "python",
   "nbconvert_exporter": "python",
   "pygments_lexer": "ipython3",
   "version": "3.8.5"
  }
 },
 "nbformat": 4,
 "nbformat_minor": 4
}
